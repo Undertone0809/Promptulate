{
 "cells": [
  {
   "cell_type": "markdown",
   "id": "2b934f3d053fe13d",
   "metadata": {
    "collapsed": false
   },
   "source": [
    "# LangChain Tool Usage\n",
    "\n",
    "Promptulate Agent can use LangChain Tool directly, this document shows how to use the LangChain tool in ToolAgent. \n",
    "\n",
    "You can see all LangChain tool [here](https://python.langchain.com/docs/integrations/tools).\n",
    "\n",
    "## Quick Start\n",
    "\n",
    "Now, let's see how to use LangChain tool in ToolAgent. The following example, we use LangChain ArXiv tool to get the latest papers from ArXiv.\n",
    "\n",
    "Before we start, we need to install the LangChain tool package and ArXiv.\n",
    "\n",
    "```bash\n",
    "pip install langchain\n",
    "pip install arxiv\n",
    "```"
   ]
  },
  {
   "cell_type": "code",
   "execution_count": null,
   "id": "initial_id",
   "metadata": {
    "collapsed": true
   },
   "outputs": [],
   "source": [
    "from langchain.agents import load_tools\n",
    "\n",
    "import promptulate as pne\n",
    "\n",
    "tools: list = load_tools([\"arxiv\"])\n",
    "agent = pne.ToolAgent(tools=tools)\n",
    "agent.run(\"What's the paper 1605.08386 about?\")"
   ]
  },
  {
   "cell_type": "markdown",
   "id": "119c4b07e6498cfa",
   "metadata": {
    "collapsed": false
   },
   "source": [
    "Output:\n",
    "\n",
    "```text\n",
    "Agent Start...\n",
    "[User] What's the paper 1605.08386 about?\n",
    "[Thought] I should use the arxiv tool to find information about the paper.\n",
    "[Action] arxiv args: 1605.08386\n",
    "[Agent Result] The paper 1605.08386 is titled 'Heat-bath random walks with Markov bases'. It is written by Caprice Stanley and Tobias Windisch. The paper studies graphs on lattice points whose edges come from a finite set of allowed moves. The authors show that the diameter of these graphs can be bounded from above by a constant. They also study the mixing behavior of heat-bath random walks on these graphs and provide conditions for the heat-bath random walk to be an expander in fixed dimension.\n",
    "```\n",
    "\n",
    "It's simple, right?\n",
    "\n",
    "Or you can use the following code to get the same result."
   ]
  },
  {
   "cell_type": "code",
   "execution_count": null,
   "id": "1bb77f6d098a9562",
   "metadata": {
    "collapsed": false
   },
   "outputs": [],
   "source": [
    "from langchain.tools.arxiv.tool import ArxivQueryRun\n",
    "\n",
    "import promptulate as pne\n",
    "\n",
    "# build LangChain tool\n",
    "arxiv_tool = pne.tools.LangchainTool(ArxivQueryRun())\n",
    "agent = pne.ToolAgent(tools=[arxiv_tool])\n",
    "agent.run(\"What's the paper 1605.08386 about?\")"
   ]
  },
  {
   "cell_type": "markdown",
   "id": "58f2c990ffa8488b",
   "metadata": {
    "collapsed": false
   },
   "source": [
    "## Use DALL-E Image Generator\n",
    "\n",
    "OpenAI Dall-E are text-to-image models developed by OpenAI using deep learning methodologies to generate digital images from natural language descriptions, called “prompts”. Now you can use DALL-E Image Generator Tool of LangChain to generate images from natural language descriptions.\n",
    "\n",
    "See [here](https://python.langchain.com/docs/integrations/tools/dalle_image_generator) to get more information about how to get DALL-E Image Generator Tool of LangChain.\n",
    "\n",
    "The following example, we use DALL-E Image Generator Tool of LangChain to generate an image from a natural language description."
   ]
  },
  {
   "cell_type": "code",
   "execution_count": null,
   "id": "ff5aa4aa67e6b269",
   "metadata": {
    "collapsed": false
   },
   "outputs": [],
   "source": [
    "from langchain.agents import load_tools\n",
    "\n",
    "import promptulate as pne\n",
    "\n",
    "tools: list = load_tools([\"dalle-image-generator\"])\n",
    "agent = pne.ToolAgent(tools=tools)\n",
    "output = agent.run(\"Create an image of a halloween night at a haunted museum\")"
   ]
  },
  {
   "cell_type": "markdown",
   "id": "8c64eb5ef61e2a85",
   "metadata": {
    "collapsed": false
   },
   "source": [
    "output:\n",
    "\n",
    "```text\n",
    "Here is the generated image: [![Halloween Night at a Haunted Museum](https://oaidalleapiprodscus.blob.core.windows.net/private/org-OyRC1wqD0EP6oWMS2n4kZgVi/user-JWA0mHqDqYh3oPpQtXbWUPgu/img-SH09tWkWZLJVltxifLi6jFy7.png)]\n",
    "```\n",
    "\n",
    "![Halloween Night at a Haunted Museum](../../images/dall-e-gen.png)"
   ]
  }
 ],
 "metadata": {
  "kernelspec": {
   "display_name": "Python 3",
   "language": "python",
   "name": "python3"
  },
  "language_info": {
   "codemirror_mode": {
    "name": "ipython",
    "version": 2
   },
   "file_extension": ".py",
   "mimetype": "text/x-python",
   "name": "python",
   "nbconvert_exporter": "python",
   "pygments_lexer": "ipython2",
   "version": "2.7.6"
  }
 },
 "nbformat": 4,
 "nbformat_minor": 5
}
