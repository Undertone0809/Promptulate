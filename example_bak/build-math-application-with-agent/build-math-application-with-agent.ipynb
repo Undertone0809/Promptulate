{
 "cells": [
  {
   "cell_type": "markdown",
   "id": "7207979682ff90d3",
   "metadata": {
    "collapsed": false
   },
   "source": [
    "# Building a Math Application with promptulate Agents\n",
    "This demo is how to use promptulate agents to create a custom Math application utilising OpenAI's GPT4 Model.\n",
    "For the application frontend, there will be using streamlit, an easy-to-use open-source Python framework. \n",
    "This generative math application, let’s call it “Math Wiz”, is designed to help users with their math or reasoning/logic questions.\n",
    "\n",
    "the app schema for “Math Wiz” looks like the following:\n",
    "![App-Schema-for-Math-Wiz diagram](./img/App-Schema-for-Math-Wiz.png)"
   ]
  },
  {
   "cell_type": "markdown",
   "id": "c14bd58db4084624",
   "metadata": {
    "collapsed": false
   },
   "source": [
    "## Environment Setup\n",
    "We can start off by creating a new conda environment with python=3.11:`conda create -n math_assistant python=3.11`\n",
    "\n",
    "Activate the environment:`conda activate math_assistant`\n",
    "\n",
    "Next, let’s install all necessary libraries:\n",
    "- `pip install -U promptulate wikipedia numexpr`\n",
    "\n",
    "Sign up at OpenAI and obtain your own key to start making calls to the gpt model. Once you have the key, create a .env file in your repository and store the OpenAI key:"
   ]
  },
  {
   "cell_type": "code",
   "execution_count": 1,
   "id": "bdba0ee6cdddfda1",
   "metadata": {
    "ExecuteTime": {
     "end_time": "2024-05-16T12:59:12.467359400Z",
     "start_time": "2024-05-16T12:59:12.434018100Z"
    },
    "collapsed": false
   },
   "outputs": [],
   "source": [
    "OPENAI_API_KEY = \"your_openai_api_key\""
   ]
  },
  {
   "cell_type": "markdown",
   "id": "57d30c50ed555e46",
   "metadata": {
    "collapsed": false
   },
   "source": [
    "## Application Flow\n",
    "The application flow for Math Wiz is outlined in the flowchart below. The agent in our pipeline will have a set of tools at its disposal that it can use to answer a user query. The Large Language Model (LLM) serves as the “brain” of the agent, guiding its decisions. When a user submits a question, the agent uses the LLM to select the most appropriate tool or a combination of tools to provide an answer. If the agent determines it needs multiple tools, it will also specify the order in which the tools are used.\n",
    "![Promptulate-Agents-Deconstructed](./img/Promptulate-Agents-Deconstructed.png)\n",
    "\n",
    "**The application flow for Math Wiz is outlined below:**\n",
    "\n",
    "The agent in our pipeline will have a set of tools at its disposal that it can use to answer a user query. The Large Language Model (LLM) serves as the “brain” of the agent, guiding its decisions. When a user submits a question, the agent uses the LLM to select the most appropriate tool or a combination of tools to provide an answer. If the agent determines it needs multiple tools, it will also specify the order in which the tools are used.\n",
    "\n",
    "The agent for our Math Wiz app will be using the following tools:\n",
    "\n",
    "1. **Wikipedia Tool:** this tool will be responsible for fetching the latest information from Wikipedia using the Wikipedia API. While there are paid tools and APIs available that can be integrated inside Promptulate, I would be using Wikipedia as the app’s online source of information.\n",
    "\n",
    "2. **Calculator Tool:** this tool would be responsible for solving a user’s math queries. This includes anything involving numerical calculations. For example, if a user asks what the square root of 4 is, this tool would be appropriate.\n",
    "\n",
    "3. **Reasoning Tool:** the final tool in our application setup would be a reasoning tool, responsible for tackling logical/reasoning-based user queries. Any mathematical word problems should also be handled with this tool.\n",
    "\n",
    "Now that we have a rough application design, we can begin thinking about building this application."
   ]
  },
  {
   "cell_type": "markdown",
   "id": "eac444b133599049",
   "metadata": {
    "collapsed": false
   },
   "source": [
    "## Understanding promptulate Agents\n",
    "\n",
    "Promptulate agents are designed to enhance interaction with language models by providing an interface for more complex and interactive tasks. We can think of an agent as an intermediary between users and a large language model. Agents seek to break down a seemingly complex user query, that our LLM might not be able to tackle on its own, into easier, actionable steps.\n",
    "\n",
    "In our application flow, we defined a few different tools that we would like to use for our math application. Based on the user input, the agent should decide which of these tools to use. If a tool is not required, it should not be used. Promptulate agents can simplify this for us. These agents use a language model to choose a sequence of actions to take. Essentially, the LLM acts as the “brain” of the agent, guiding it on which tool to use for a particular query, and in which order. This is different from Proptulate chains where the sequence of actions are hardcoded in code. Promptulate offers a wide set of tools that can be integrated with an agent. These tools include, and are not limited to, online search tools, API-based tools, chain-based tools etc. For more information on Promptulate agents and their types, see [this](https://undertone0809.github.io/promptulate/#/modules/agent?id=agent)."
   ]
  },
  {
   "cell_type": "markdown",
   "id": "580a0bd570fd6545",
   "metadata": {
    "collapsed": false
   },
   "source": [
    "## Step-by-Step Implementation "
   ]
  },
  {
   "cell_type": "markdown",
   "id": "22e6af33468bbed4",
   "metadata": {
    "collapsed": false
   },
   "source": [
    "### Step 1\n",
    "\n",
    "Create a `chatbot.py` script and import the necessary dependencies:"
   ]
  },
  {
   "cell_type": "code",
   "execution_count": 2,
   "id": "bf24915502504abb",
   "metadata": {
    "ExecuteTime": {
     "end_time": "2024-05-16T12:59:15.214430200Z",
     "start_time": "2024-05-16T12:59:12.454715600Z"
    },
    "collapsed": false
   },
   "outputs": [],
   "source": [
    "import promptulate as pne\n",
    "from promptulate.tools.math.tools import calculator\n",
    "from promptulate.tools.wikipedia.tools import wikipedia_search"
   ]
  },
  {
   "cell_type": "markdown",
   "id": "24cf6e82bd6c908e",
   "metadata": {
    "collapsed": false
   },
   "source": [
    "### Step 2\n",
    "Next, we will define our OpenAI-based Language Model.The architectural design of `promptulate` is easily compatible with different large language model extensions. In `promptulate`, llm is responsible for the most basic part of content generation, so it is the most basic component.By default, `ChatOpenAI` in `promptulate` uses the `gpt-3.5-turbo` model."
   ]
  },
  {
   "cell_type": "code",
   "execution_count": 3,
   "id": "ca8d4ef8b9b9bcc3",
   "metadata": {
    "ExecuteTime": {
     "end_time": "2024-05-16T12:59:15.229718600Z",
     "start_time": "2024-05-16T12:59:15.215907600Z"
    },
    "collapsed": false
   },
   "outputs": [],
   "source": [
    "llm = pne.LLMFactory.build(model_name=\"gpt-4-1106-preview\")"
   ]
  },
  {
   "cell_type": "markdown",
   "id": "479c360af07d9a6",
   "metadata": {
    "collapsed": false
   },
   "source": [
    "We would be using this LLM both within our math and reasoning process and as the decision maker for our agent."
   ]
  },
  {
   "cell_type": "markdown",
   "id": "a2b9b2c90ec135c6",
   "metadata": {
    "collapsed": false
   },
   "source": [
    "### Step 3\n",
    "When constructing your own agent, you will need to provide it with a list of tools that it can use. Difine a tool， the only you need to do is to provide a function to Promptulate. Promptulate will automatically convert it to a tool that can be used by the language learning model (LLM). The final presentation result it presents to LLM is an OpenAI type JSON schema declaration.\n",
    "\n",
    "Actually, Promptulate will analysis function name, parameters type, parameters attribution, annotations and docs when you provide the function. We strongly recommend that you use the official best practices of Template for function writing. The best implementation of a function requires adding type declarations to its parameters and providing function level annotations. Ideally, declare the meaning of each parameter within the annotations.\n",
    "\n",
    "We will now create our three tools. The first one will be the online tool using the Wikipedia API wrapper:"
   ]
  },
  {
   "cell_type": "code",
   "execution_count": 4,
   "id": "2432245bfeb3ec83",
   "metadata": {
    "ExecuteTime": {
     "end_time": "2024-05-16T12:59:15.248648400Z",
     "start_time": "2024-05-16T12:59:15.232125Z"
    },
    "collapsed": false
   },
   "outputs": [],
   "source": [
    "# Wikipedia Tool\n",
    "def wikipedia_tool(keyword: str) -> str:\n",
    "    \"\"\"search by keyword in web.\n",
    "\n",
    "    A useful tool for searching the Internet to find information on world events,\n",
    "    issues, dates,years, etc. Worth using for general topics. Use precise questions.\n",
    "\n",
    "    Args:\n",
    "        keyword: keyword to search\n",
    "\n",
    "    Returns:\n",
    "        str: search result\n",
    "    \"\"\"\n",
    "    return wikipedia_search(keyword)"
   ]
  },
  {
   "cell_type": "markdown",
   "id": "bd71e0b1f2e2b3ba",
   "metadata": {
    "collapsed": false
   },
   "source": [
    "Next, let’s define the tool that we will be using for calculating any numerical expressions. `Promptulate` offers the `calculator` which uses the `numexpr` Python library to calculate mathematical expressions. It is also important that we clearly define what this tool would be used for. The description can be helpful for the agent in deciding which tool to use from a set of tools for a particular user query. "
   ]
  },
  {
   "cell_type": "code",
   "execution_count": 5,
   "id": "f34cd4480745694b",
   "metadata": {
    "ExecuteTime": {
     "end_time": "2024-05-16T12:59:15.259270500Z",
     "start_time": "2024-05-16T12:59:15.247638600Z"
    },
    "collapsed": false
   },
   "outputs": [],
   "source": [
    "# calculator tool for arithmetics\n",
    "def math_tool(expression: str):\n",
    "    \"\"\"Useful for when you need to answer questions about math. This tool is only\n",
    "    for math questions and nothing else. Only input math expressions.\n",
    "\n",
    "    Args:\n",
    "        expression: A mathematical expression, eg: 18^0.43\n",
    "\n",
    "    Attention:\n",
    "        Expressions can not exist variables!\n",
    "        eg: (current age)^0.43 is wrong, you should use 18^0.43 instead.\n",
    "\n",
    "    Returns:\n",
    "        The result of the evaluation.\n",
    "    \"\"\"\n",
    "    return calculator(expression)"
   ]
  },
  {
   "cell_type": "markdown",
   "id": "5ffdb61331ee9735",
   "metadata": {
    "collapsed": false
   },
   "source": [
    "Finally, we will be defining the tool for logic/reasoning-based queries. We will first create a prompt to instruct the model with executing the specific task. Then we will create a simple `AssistantMessage` for this tool, passing it the LLM and the prompt."
   ]
  },
  {
   "cell_type": "code",
   "execution_count": 6,
   "id": "9e135028cb2f3b9",
   "metadata": {
    "ExecuteTime": {
     "end_time": "2024-05-16T12:59:15.278356200Z",
     "start_time": "2024-05-16T12:59:15.261878200Z"
    },
    "collapsed": false
   },
   "outputs": [],
   "source": [
    "# reasoning based tool\n",
    "def word_problem_tool(question: str) -> str:\n",
    "    \"\"\"\n",
    "    Useful for when you need to answer logic-based/reasoning questions.\n",
    "\n",
    "    Args:\n",
    "        question(str): Detail question, the description of the problem requires a\n",
    "        detailed question context. Include a description of the problem\n",
    "\n",
    "    Returns:\n",
    "        question answer\n",
    "    \"\"\"\n",
    "    system_prompt: str = \"\"\"You are a reasoning agent tasked with solving t he user's logic-based questions.\n",
    "    Logically arrive at the solution, and be factual.\n",
    "    In your answers, clearly detail the steps involved and give the final answer.\n",
    "    Provide the response in bullet points.\"\"\"  # noqa\n",
    "    model = pne.LLMFactory.build(model_name=\"gpt-4-1106-preview\")\n",
    "    return model(f\"{system_prompt}\\n\\nQuestion:{question}Answer:\")"
   ]
  },
  {
   "cell_type": "markdown",
   "id": "d0dec33956572b1a",
   "metadata": {
    "collapsed": false
   },
   "source": [
    "### Step 4\n",
    "We will now initialize our agent with the tools we have created above. We will also specify the LLM to help it choose which tools to use and in what order:"
   ]
  },
  {
   "cell_type": "code",
   "execution_count": 7,
   "id": "5b03977f863172b",
   "metadata": {
    "ExecuteTime": {
     "end_time": "2024-05-16T12:59:45.005191700Z",
     "start_time": "2024-05-16T12:59:15.277354200Z"
    },
    "collapsed": false
   },
   "outputs": [],
   "source": [
    "# agent\n",
    "agent = pne.ToolAgent(tools=[wikipedia_tool, math_tool, word_problem_tool], llm=llm)\n",
    "\n",
    "resp: str = agent.run(\n",
    "    \"I have 3 apples and 4 oranges.I give half of my oranges away and buy two dozen new ones,along with three packs of strawberries.Each pack of strawberry has 30 strawberries.How many total pieces of fruit do I have at the end?\"\n",
    ")\n",
    "print(resp)"
   ]
  },
  {
   "cell_type": "markdown",
   "id": "f03211a6b5fdb861",
   "metadata": {
    "collapsed": false
   },
   "source": [
    "**The app’s response to a logic question is following:**\n",
    "![test-question-answer](./img/test-question-answer.jpg)"
   ]
  },
  {
   "cell_type": "markdown",
   "id": "39bc55b81b5726e8",
   "metadata": {
    "collapsed": false
   },
   "source": [
    "## Creating streamlit application\n",
    "\n",
    "We will be using Streamlit, an open-source Python framework, to build our application. With Streamlit, you can build conversational AI applications with a few simple lines of code. There is a `chatbot.py` file under the `build-math-application-agent` file of `example` in the project folder. You can run the application directly to view the effect and debug the web page. \n",
    "\n",
    "Project Link: [build-math-application-with-agent](https://github.com/Undertone0809/promptulate/tree/main/example/build-math-application-with-agent)\n",
    "\n",
    "To run the application, follow the steps below:\n",
    "\n",
    "- Click [here](https://github.com/Undertone0809/promptulate/fork) to fork the project to your local machine\n",
    "- Clone the project locally:\n",
    "\n",
    "```bash\n",
    "git clone https://github.com/Undertone0809/promptulate.git\n",
    "```\n",
    "\n",
    "- Switch the current directory to the example\n",
    "\n",
    "```shell\n",
    "cd ./example/build-math-application-with-agent\n",
    "```\n",
    "\n",
    "- Install the dependencies\n",
    "\n",
    "```shell\n",
    "pip install -r requirements.txt\n",
    "```\n",
    "\n",
    "- Run the application\n",
    "\n",
    "```shell\n",
    "streamlit run chatbot.py\n",
    "```"
   ]
  },
  {
   "cell_type": "markdown",
   "id": "9146a797261edbd3",
   "metadata": {
    "collapsed": false
   },
   "source": [
    "The running result is as follows:\n",
    "![streamlit-application-run](./img/streamlit-application-run.png)"
   ]
  },
  {
   "cell_type": "markdown",
   "id": "830067dbcfc560b9",
   "metadata": {
    "collapsed": false
   },
   "source": [
    "Examples of other questions are given below for testing reference:\n",
    "1. Question 1\n",
    "    - I have 3 apples and 4 oranges.I give half of my oranges away and buy two dozen new ones,along with three packs of strawberries.Each pack of strawberry has 30 strawberries.How many total pieces of fruit do I have at the end?\n",
    "    - correct answer = 119\n",
    "2. Question 2\n",
    "    - What is the cube root of 625?\n",
    "    - correct answer = 8.5498\n",
    "3. Question 3\n",
    "    - what is cube root of 81? Multiply with 13.27, and subtract 5.\n",
    "    - correct answer = 52.4195\n",
    "4. Question 4\n",
    "    - Steve's sister is 10 years older than him. Steve was born when the cold war \n",
    "ended. When was Steve's sister born?\n",
    "    - correct answer = 1991 - 10 = 1981\n",
    "5. Question 5\n",
    "    - Tell me the year in which Tom Cruise's Top Gun was released, and calculate the square of that year.\n",
    "    - correct answer = 1986**2 = 3944196"
   ]
  }
 ],
 "metadata": {
  "kernelspec": {
   "display_name": "Python 3",
   "language": "python",
   "name": "python3"
  },
  "language_info": {
   "codemirror_mode": {
    "name": "ipython",
    "version": 2
   },
   "file_extension": ".py",
   "mimetype": "text/x-python",
   "name": "python",
   "nbconvert_exporter": "python",
   "pygments_lexer": "ipython2",
   "version": "2.7.6"
  }
 },
 "nbformat": 4,
 "nbformat_minor": 5
}
