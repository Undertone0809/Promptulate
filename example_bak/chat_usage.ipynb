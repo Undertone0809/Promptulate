{
 "cells": [
  {
   "cell_type": "markdown",
   "id": "db2c1ac319e2854b",
   "metadata": {
    "collapsed": false
   },
   "source": [
    "> All your need is a `pne.chat()` function.\n",
    "\n",
    "# Chat\n",
    "`pne.chat()` is an awesome function, you can use **tools, formatted output, different llm** in this function. \n",
    "\n",
    "## Best Practice\n",
    "\n",
    "Here are some tips for using `pne.chat()`. Even though pne provides many modules, in 90% of LLM application development scenarios, you only need to use the pne.chat () function, so you only need to start with chat to understand the use of pne, and when you need to use additional modules, you can learn more about the features and use of other modules.\n",
    "\n",
    "`pne.chat()` integrate the ability of [litellm](https://github.com/BerriAI/litellm). It means you can call all LLM APIs using the OpenAI format. Use Bedrock, Azure, OpenAI, Cohere, Anthropic, Ollama, Sagemaker, HuggingFace, Replicate (100+ LLMs). Now let's take a look at how to use it."
   ]
  },
  {
   "cell_type": "markdown",
   "id": "ab40a7999dea9f0f",
   "metadata": {
    "collapsed": false
   },
   "source": [
    "## Chat like OpenAI\n",
    "You can use `pne.chat()` to chat like openai. OpenAI chat API document: [https://platform.openai.com/docs/api-reference/chat](https://platform.openai.com/docs/api-reference/chat). `pne.chat()` API design is the same as OpenAI chat API."
   ]
  },
  {
   "cell_type": "code",
   "execution_count": 1,
   "id": "87ea02d652933cfa",
   "metadata": {
    "ExecuteTime": {
     "end_time": "2024-04-25T10:31:37.359443Z",
     "start_time": "2024-04-25T10:31:30.702171Z"
    },
    "collapsed": false
   },
   "outputs": [],
   "source": [
    "import os\n",
    "\n",
    "import promptulate as pne\n",
    "\n",
    "os.environ[\"OPENAI_API_KEY\"] = \"your-api-key\"\n",
    "\n",
    "messages = [\n",
    "    {\"role\": \"system\", \"content\": \"You are a helpful assistant.\"},\n",
    "    {\"role\": \"user\", \"content\": \"Who are you?\"},\n",
    "]\n",
    "response: str = pne.chat(messages=messages, model=\"gpt-4-turbo\")\n",
    "print(response)"
   ]
  },
  {
   "cell_type": "markdown",
   "id": "a591775c9503693c",
   "metadata": {
    "collapsed": false
   },
   "source": [
    "Moreover, you can only pass a string to `pne.chat()`, it will automatically convert it to the OpenAI format."
   ]
  },
  {
   "cell_type": "code",
   "execution_count": 6,
   "id": "b54acb1bd5360e53",
   "metadata": {
    "ExecuteTime": {
     "end_time": "2023-12-06T19:12:18.305425200Z",
     "start_time": "2023-12-06T19:12:11.264168300Z"
    },
    "collapsed": false
   },
   "outputs": [],
   "source": [
    "import promptulate as pne\n",
    "\n",
    "response = pne.chat(messages=\"When is your knowledge up to?\", model=\"gpt-4-turbo\")\n",
    "print(response)"
   ]
  },
  {
   "cell_type": "markdown",
   "id": "ff74a1fb14faa450",
   "metadata": {},
   "source": [
    "## OpenAI Proxy\n",
    "You can use `pne.chat()` to chat with OpenAI API by proxy service. The following example show how to use [AIGCAPI proxy](https://aigcapi.io/) to call OpenAI gpt-4-turbo."
   ]
  },
  {
   "cell_type": "code",
   "execution_count": null,
   "id": "f7e6e7d18098043b",
   "metadata": {},
   "outputs": [],
   "source": [
    "import os\n",
    "\n",
    "import pne\n",
    "\n",
    "os.environ[\"OPENAI_API_KEY\"] = \"your-api-key\"\n",
    "response = pne.chat(\n",
    "    messages=\"Who are you?\",\n",
    "    model=\"gpt-4-turbo\",\n",
    "    model_config={\"api_base\": \"https://api.aigcapi.io\"},\n",
    ")"
   ]
  },
  {
   "cell_type": "markdown",
   "id": "23210945e0e3ad91",
   "metadata": {},
   "source": [
    "Or you can pass your key by the following way: "
   ]
  },
  {
   "cell_type": "code",
   "execution_count": null,
   "id": "27d238b871baabdb",
   "metadata": {},
   "outputs": [],
   "source": [
    "import pne\n",
    "\n",
    "response = pne.chat(\n",
    "    messages=\"Who are you?\",\n",
    "    model=\"gpt-4-turbo\",\n",
    "    model_config={\"api_key\": \"your-api\", \"api_base\": \"https://api.aigcapi.io\"},\n",
    ")"
   ]
  },
  {
   "cell_type": "markdown",
   "id": "b3cbbc3ec82954d3",
   "metadata": {},
   "source": [
    "## AIChat\n",
    "\n",
    "If you have multi-conversation and only use one LLM, you can use `pne.AIChat` init a chat object. It will save the LLM object and you can use it to chat. AIChat is the same as chat, but it is more convenient to use when you have multiple conversations.\n",
    "\n",
    "The follow example show how to use `pne.AIChat` to chat."
   ]
  },
  {
   "cell_type": "code",
   "execution_count": 2,
   "id": "77056f2649c0a184",
   "metadata": {
    "ExecuteTime": {
     "end_time": "2024-05-12T20:07:29.076077Z",
     "start_time": "2024-05-12T20:07:26.644669Z"
    }
   },
   "outputs": [],
   "source": [
    "import promptulate as pne\n",
    "\n",
    "ai = pne.AIChat(model=\"gpt-4-1106-preview\", model_config={\"temperature\": 0.5})\n",
    "resp: str = ai.run(\"Hello\")\n",
    "print(resp)"
   ]
  },
  {
   "cell_type": "markdown",
   "id": "e6f9c9fd88ededb6",
   "metadata": {},
   "source": [
    "Output:\n",
    "\n",
    "```\n",
    "I am a helpful assistant designed to provide information and assistance to users like you. How can I help you today?\n",
    "```"
   ]
  },
  {
   "cell_type": "markdown",
   "id": "32945a69e362c49c",
   "metadata": {},
   "source": [
    "The usage of `pne.AIChat` is the same as `pne.chat()`, you can also use OpenAI format to chat."
   ]
  },
  {
   "cell_type": "code",
   "execution_count": 3,
   "id": "10861e598fae1f73",
   "metadata": {
    "ExecuteTime": {
     "end_time": "2024-05-12T20:08:26.974772Z",
     "start_time": "2024-05-12T20:08:23.465163Z"
    }
   },
   "outputs": [],
   "source": [
    "messages = [\n",
    "    {\"role\": \"system\", \"content\": \"You are a helpful assistant.\"},\n",
    "    {\"role\": \"user\", \"content\": \"Who are you?\"},\n",
    "]\n",
    "resp: str = ai.run(messages)\n",
    "print(resp)"
   ]
  },
  {
   "cell_type": "markdown",
   "id": "3d29b3d74fae746b",
   "metadata": {},
   "source": [
    "## Memory for AIChat\n",
    "By default, AIChat does not have the ability to turn on memory. Turning on Memory means that AIChat records the history of the conversation and you can use the continuous conversation feature. The follow example show how to turn on memory for AIChat."
   ]
  },
  {
   "cell_type": "code",
   "execution_count": null,
   "id": "56a198693c9d22b7",
   "metadata": {},
   "outputs": [],
   "source": [
    "import pne\n",
    "\n",
    "ai = pne.AIChat(model=\"gpt-4-1106-preview\", enable_memory=True)\n",
    "response: str = ai.run(\"Tell me about promptulate.\")\n",
    "print(response)"
   ]
  },
  {
   "cell_type": "markdown",
   "id": "d94062f06a60df9a",
   "metadata": {},
   "source": [
    "Continuing the conversation:"
   ]
  },
  {
   "cell_type": "code",
   "execution_count": null,
   "id": "f52f0c9ee3ebced0",
   "metadata": {},
   "outputs": [],
   "source": [
    "response: str = ai.run(\"Tell me more\")\n",
    "print(response)"
   ]
  },
  {
   "cell_type": "markdown",
   "id": "986436f7d728cb57",
   "metadata": {
    "collapsed": false
   },
   "source": [
    "## Return type\n",
    "`pne.chat()` return string by default.\n",
    "\n",
    "If you want to do more complex thing, metadata is important. You can use `return_raw_response=True` to get the raw response wrapped by `pne.AssistantMessage`. Metadata will store in `pne.AssistantMessage.additional_kwargs`.\n",
    "\n",
    "\n",
    "> About `pne.AssistantMessage`, you can see [here](modules/schema.md#Schema)."
   ]
  },
  {
   "cell_type": "code",
   "execution_count": 4,
   "id": "dfd2be8184fde7c6",
   "metadata": {
    "ExecuteTime": {
     "end_time": "2023-12-10T19:44:23.789267100Z",
     "start_time": "2023-12-10T19:44:21.287383900Z"
    },
    "collapsed": false
   },
   "outputs": [],
   "source": [
    "import promptulate as pne\n",
    "\n",
    "response: pne.AssistantMessage = pne.chat(\n",
    "    messages=\"Who are you?\", model=\"gpt-4-turbo\", return_raw_response=True\n",
    ")\n",
    "print(response.content)  # response string\n",
    "print(response.additional_kwargs)  # metadata"
   ]
  },
  {
   "cell_type": "markdown",
   "id": "90d35de8282c9a20",
   "metadata": {
    "collapsed": false
   },
   "source": [
    "## Using any model\n",
    "\n",
    "You can call 100+ LLMs using the same Input/Output Format(OpenAI format) in `pne.chat()`. The follow example show how to use `claude-2`, make sure you have key ANTHROPIC_API_KEY."
   ]
  },
  {
   "cell_type": "code",
   "execution_count": null,
   "id": "33c2e222f3e47af2",
   "metadata": {
    "collapsed": false
   },
   "outputs": [],
   "source": [
    "import os\n",
    "\n",
    "import promptulate as pne\n",
    "\n",
    "os.environ[\"ANTHROPIC_API_KEY\"] = \"your-api-key\"\n",
    "\n",
    "messages = [\n",
    "    {\"role\": \"system\", \"content\": \"You are a helpful assistant.\"},\n",
    "    {\"role\": \"user\", \"content\": \"Who are you?\"},\n",
    "]\n",
    "response = pne.chat(messages=messages, model=\"claude-2\")\n",
    "print(response)"
   ]
  },
  {
   "cell_type": "markdown",
   "id": "11b5988ded8950b5",
   "metadata": {},
   "source": [
    "> pne declares model names in the same way litellm does.\n",
    "\n",
    "### Deepseek\n",
    "\n",
    "This example show how to use Deepseek LLMs in `pne.chat()`. Make sure you have key DEEPSEEK_API_KEY."
   ]
  },
  {
   "cell_type": "code",
   "execution_count": null,
   "id": "6206103f0d55d134",
   "metadata": {},
   "outputs": [],
   "source": [
    "import os\n",
    "\n",
    "import promptulate as pne\n",
    "\n",
    "os.environ[\"OPENAI_API_KEY\"] = \"your-api-key\"\n",
    "\n",
    "messages = [\n",
    "    {\"role\": \"system\", \"content\": \"You are a helpful assistant.\"},\n",
    "    {\"role\": \"user\", \"content\": \"Who are you?\"},\n",
    "]\n",
    "response = pne.chat(\n",
    "    messages=messages,\n",
    "    model=\"deepseek/deepseek-chat\",\n",
    ")\n",
    "print(response)"
   ]
  },
  {
   "cell_type": "markdown",
   "id": "274f65308042965",
   "metadata": {},
   "source": [
    "### How to write model name?\n",
    "\n",
    "Click [Here](/other/how_to_write_model_name#how-to-write-model-name) to see the detail.\n",
    "\n",
    "For some well-known models, you can use the name of the model directly to call. For some other models, you can use the provider/model-name method. For example, deepseek's deepseek-chat model can be invoked by deepseek/deepseek-chat method.\n",
    "\n",
    "This notation is based on litellm design, so if you are not sure how to write the name of your model, you can go to [litellm documentation](https://docs.litellm.ai/docs/) to see the detail. "
   ]
  },
  {
   "cell_type": "markdown",
   "id": "c3d9dd4987503b18",
   "metadata": {},
   "source": [
    "### Zhipu\n",
    "\n",
    "This example show how to use Zhipu model in `pne.chat()`. Make sure you have key ZHIPUAI_API_KEY."
   ]
  },
  {
   "cell_type": "code",
   "execution_count": null,
   "id": "3b0d99295a348549",
   "metadata": {},
   "outputs": [],
   "source": [
    "import os\n",
    "\n",
    "import promptulate as pne\n",
    "\n",
    "os.environ[\"ZHIPUAI_API_KEY\"] = \"your-api-key\"\n",
    "\n",
    "messages = [\n",
    "    {\"role\": \"system\", \"content\": \"You are a helpful assistant.\"},\n",
    "    {\"role\": \"user\", \"content\": \"Who are you?\"},\n",
    "]\n",
    "response = pne.chat(\n",
    "    messages=messages,\n",
    "    model=\"zhipu/glm-4\",\n",
    ")\n",
    "print(response)"
   ]
  },
  {
   "cell_type": "markdown",
   "id": "677270690169cc74",
   "metadata": {},
   "source": [
    "### Ernie\n",
    "\n",
    "This example show how to use Baidu Ernie model in `pne.chat()`. Make sure you have key QIANFAN_ACCESS_KEY and QIANFAN_SECRET_KEY."
   ]
  },
  {
   "cell_type": "code",
   "execution_count": null,
   "id": "10143019462b89f5",
   "metadata": {},
   "outputs": [],
   "source": [
    "import os\n",
    "\n",
    "import promptulate as pne\n",
    "\n",
    "os.environ[\"QIANFAN_ACCESS_KEY\"] = \"your-api-key\"\n",
    "os.environ[\"QIANFAN_SECRET_KEY\"] = \"your-api-key\"\n",
    "\n",
    "messages = [\n",
    "    {\"role\": \"system\", \"content\": \"You are a helpful assistant.\"},\n",
    "    {\"role\": \"user\", \"content\": \"Who are you?\"},\n",
    "]\n",
    "response = pne.chat(\n",
    "    messages=messages,\n",
    "    model=\"qianfan/ERNIE-Bot-4\",\n",
    ")\n",
    "print(response)"
   ]
  },
  {
   "cell_type": "markdown",
   "id": "37c2a4cf5094bfa6",
   "metadata": {
    "collapsed": false
   },
   "source": [
    "### HuggingFace\n",
    "This example show how to use HuggingFace LLMs in `pne.chat()`. Make sure you have key HUGGINGFACE_API_KEY."
   ]
  },
  {
   "cell_type": "code",
   "execution_count": null,
   "id": "1b7f930730c8edc4",
   "metadata": {
    "collapsed": false
   },
   "outputs": [],
   "source": [
    "import os\n",
    "\n",
    "import promptulate as pne\n",
    "\n",
    "os.environ[\"HUGGINGFACE_API_KEY\"] = \"your-api-key\"\n",
    "\n",
    "messages = [\n",
    "    {\"role\": \"system\", \"content\": \"You are a helpful assistant.\"},\n",
    "    {\"role\": \"user\", \"content\": \"Who are you?\"},\n",
    "]\n",
    "response = pne.chat(\n",
    "    messages=messages,\n",
    "    model=\"huggingface/WizardLM/WizardCoder-Python-34B-V1.0\",\n",
    "    model_config={\"api_base\": \"https://my-endpoint.huggingface.cloud\"},\n",
    ")\n",
    "print(response)"
   ]
  },
  {
   "cell_type": "markdown",
   "id": "4aae7346115ec99e",
   "metadata": {
    "collapsed": false
   },
   "source": [
    "### Azure OpenAI\n",
    "This example show how to use Azure OpenAI LLMs in `pne.chat()`. Make sure you have relevant key."
   ]
  },
  {
   "cell_type": "code",
   "execution_count": null,
   "id": "5bc66280c7f75187",
   "metadata": {
    "collapsed": false
   },
   "outputs": [],
   "source": [
    "import os\n",
    "\n",
    "import promptulate as pne\n",
    "\n",
    "os.environ[\"AZURE_API_KEY\"] = \"\"\n",
    "os.environ[\"AZURE_API_BASE\"] = \"\"\n",
    "os.environ[\"AZURE_API_VERSION\"] = \"\"\n",
    "\n",
    "messages = [\n",
    "    {\"role\": \"system\", \"content\": \"You are a helpful assistant.\"},\n",
    "    {\"role\": \"user\", \"content\": \"Who are you?\"},\n",
    "]\n",
    "response = pne.chat(\n",
    "    messages=messages,\n",
    "    model=\"azure/<your_deployment_name>\",\n",
    ")\n",
    "print(response)"
   ]
  },
  {
   "cell_type": "markdown",
   "id": "40ec37df0dc9bab5",
   "metadata": {
    "collapsed": false
   },
   "source": [
    "### Custom LLM\n",
    "You can use `pne.llms.BaseLLM` to create your own LLM. The follow example show how to create a custom LLM and use it in `pne.chat()`."
   ]
  },
  {
   "cell_type": "code",
   "execution_count": 2,
   "id": "aa746c259a9edd4f",
   "metadata": {
    "ExecuteTime": {
     "end_time": "2023-12-06T19:03:47.080442300Z",
     "start_time": "2023-12-06T19:03:45.078761200Z"
    },
    "collapsed": false
   },
   "outputs": [],
   "source": [
    "from typing import Optional\n",
    "\n",
    "import promptulate as pne\n",
    "\n",
    "\n",
    "class CustomLLM(pne.llms.BaseLLM):\n",
    "    \"\"\"\n",
    "    This is a custom LLM, here we wrap OpenAI API to implement it.\n",
    "    \"\"\"\n",
    "\n",
    "    llm_type: str = \"custom_llm\"\n",
    "    llm = pne.ChatOpenAI()\n",
    "\n",
    "    def __init__(self, *args, **kwargs):\n",
    "        super().__init__(*args, **kwargs)\n",
    "\n",
    "    def _predict(\n",
    "        self, prompts: pne.MessageSet, *args, **kwargs\n",
    "    ) -> Optional[pne.AssistantMessage]:\n",
    "        return self.llm.predict(prompts, *args, **kwargs)\n",
    "\n",
    "    def __call__(self, prompt: str, *args, **kwargs):\n",
    "        return self.llm(prompt, *args, **kwargs)\n",
    "\n",
    "\n",
    "messages = [\n",
    "    {\"role\": \"system\", \"content\": \"You are a helpful assistant.\"},\n",
    "    {\"role\": \"user\", \"content\": \"Who are you?\"},\n",
    "]\n",
    "response = pne.chat(\n",
    "    messages=messages,\n",
    "    custom_llm=CustomLLM(),\n",
    ")\n",
    "print(response)"
   ]
  },
  {
   "cell_type": "markdown",
   "id": "5f82e8d518c46350",
   "metadata": {
    "collapsed": false
   },
   "source": [
    "## Structured Output\n",
    "The output of LLM has strong uncertainty. Pne provide the ability to get a structured object by LLM. The following example shows that if LLM strictly returns you an array listing all provinces in China. Here we use Pydantic to build a structured object."
   ]
  },
  {
   "cell_type": "code",
   "execution_count": 2,
   "id": "fa4efacb171d3dc3",
   "metadata": {
    "ExecuteTime": {
     "end_time": "2023-12-10T20:26:38.324581100Z",
     "start_time": "2023-12-10T20:26:33.640080200Z"
    },
    "collapsed": false
   },
   "outputs": [],
   "source": [
    "from typing import List\n",
    "\n",
    "from pydantic import BaseModel, Field\n",
    "\n",
    "import promptulate as pne\n",
    "\n",
    "\n",
    "class LLMResponse(BaseModel):\n",
    "    provinces: List[str] = Field(description=\"All provinces in China\")\n",
    "\n",
    "\n",
    "response: LLMResponse = pne.chat(\n",
    "    messages=\"Please tell me all provinces in China.\",\n",
    "    model=\"gpt-4-turbo\",\n",
    "    output_schema=LLMResponse,\n",
    ")\n",
    "print(response.provinces)"
   ]
  },
  {
   "cell_type": "markdown",
   "id": "8041a6e3f631f41c",
   "metadata": {},
   "source": [
    "Output:\n",
    "\n",
    "```\n",
    "['Anhui', 'Fujian', 'Gansu', 'Guangdong', 'Guizhou', 'Hainan', 'Hebei', 'Heilongjiang', 'Henan', 'Hubei', 'Hunan', 'Jiangsu', 'Jiangxi', 'Jilin', 'Liaoning', 'Qinghai', 'Shaanxi', 'Shandong', 'Shanxi', 'Sichuan', 'Yunnan', 'Zhejiang', 'Taiwan', 'Guangxi', 'Nei Mongol', 'Ningxia', 'Xinjiang', 'Xizang', 'Beijing', 'Chongqing', 'Shanghai', 'Tianjin', 'Hong Kong', 'Macao']\n",
    "```"
   ]
  },
  {
   "cell_type": "markdown",
   "id": "8f8c1b99869e96ee",
   "metadata": {
    "collapsed": false
   },
   "source": [
    "As you can see, `pne.chat()` return a LLMResponse object. The value of provinces is all provinces in China. If you are building a complex Agent project, formatting output is a necessary measure to improve system robustness. The follow example show how to use `pne.chat()` to get the weather in Shanghai tomorrow."
   ]
  },
  {
   "cell_type": "code",
   "execution_count": 5,
   "id": "b09f45f7524a641",
   "metadata": {
    "ExecuteTime": {
     "end_time": "2023-12-11T05:02:38.742635700Z",
     "start_time": "2023-12-11T05:02:35.722348800Z"
    },
    "collapsed": false
   },
   "outputs": [],
   "source": [
    "from datetime import datetime\n",
    "\n",
    "from pydantic import BaseModel, Field\n",
    "\n",
    "import promptulate as pne\n",
    "\n",
    "\n",
    "class LLMResponse(BaseModel):\n",
    "    city_name: str = Field(description=\"city name\")\n",
    "    queried_date: datetime = Field(description=\"date of timestamp\")\n",
    "\n",
    "\n",
    "current_time = datetime.now()\n",
    "response: LLMResponse = pne.chat(\n",
    "    messages=f\"What's the temperature in Shanghai tomorrow? current time: {current_time}\",\n",
    "    model=\"gpt-4-turbo\",\n",
    "    output_schema=LLMResponse,\n",
    ")\n",
    "print(response)\n",
    "print(response.city_name)\n",
    "print(response.queried_date)"
   ]
  },
  {
   "cell_type": "markdown",
   "id": "814b3228c2da3a71",
   "metadata": {
    "collapsed": false
   },
   "source": [
    "## Using tool\n",
    "\n",
    "The Tool feature in `pne.chat()` allows the language model to use specialized tools to assist in providing answers. For instance, when the language model recognizes the need to obtain weather information, it can invoke a predefined function for this purpose.\n",
    "\n",
    "This is facilitated by a ToolAgent, which operates within the ReAct framework. The [ReAct](https://react-lm.github.io/) framework endows the ToolAgent with the ability to reason, think, and execute tools.\n",
    "\n",
    "To illustrate, if the language model needs to find out the weather forecast for Shanghai tomorrow, it can make use of the DuckDuckGoTool through the ToolAgent to retrieve this information."
   ]
  },
  {
   "cell_type": "code",
   "execution_count": 1,
   "id": "7640390bf6a79c07",
   "metadata": {
    "ExecuteTime": {
     "end_time": "2023-12-11T18:05:46.822509100Z",
     "start_time": "2023-12-11T18:05:42.669621800Z"
    },
    "collapsed": false
   },
   "outputs": [],
   "source": [
    "import promptulate as pne\n",
    "\n",
    "websearch = pne.tools.DuckDuckGoTool()\n",
    "response = pne.chat(\n",
    "    messages=\"What's the temperature in Shanghai tomorrow?\",\n",
    "    model=\"gpt-4-turbo\",\n",
    "    tools=[websearch],\n",
    ")\n",
    "print(response)"
   ]
  },
  {
   "cell_type": "markdown",
   "id": "d3f5dabeebc74620",
   "metadata": {
    "collapsed": false
   },
   "source": [
    "## Custom Tool\n",
    "\n",
    "Moreover, you can customize your function easily. The follow example show how to create a custom tool and use it in `pne.chat()`. Here we also we ddg websearch to wrap the function."
   ]
  },
  {
   "cell_type": "code",
   "execution_count": 1,
   "id": "6f922254b7148de3",
   "metadata": {
    "ExecuteTime": {
     "end_time": "2024-03-28T13:18:36.298372300Z",
     "start_time": "2024-03-28T13:18:23.700207100Z"
    },
    "collapsed": false
   },
   "outputs": [],
   "source": [
    "import promptulate as pne\n",
    "\n",
    "\n",
    "def websearch(query: str) -> str:\n",
    "    \"\"\"Search the web for the query.\n",
    "\n",
    "    Args:\n",
    "        query(str): The query word.\n",
    "\n",
    "    Returns:\n",
    "        str: The search result.\n",
    "    \"\"\"\n",
    "    return pne.tools.DuckDuckGoTool().run(query)\n",
    "\n",
    "\n",
    "response = pne.chat(\n",
    "    messages=\"What's the temperature in Shanghai tomorrow?\", tools=[websearch]\n",
    ")\n",
    "print(response)"
   ]
  },
  {
   "cell_type": "markdown",
   "id": "90298940708b2f6e",
   "metadata": {
    "collapsed": false
   },
   "source": [
    "## chat with Plan-Execute-Reflect Agent\n",
    "\n",
    "Additionally, you can enhance the capabilities of the ToolAgent by setting enable_plan=True, which activates its ability to handle more complex issues. In the pne framework, this action triggers the AssistantAgent, which can be thought of as a planning-capable ToolAgent. Upon receiving user instructions, the AssistantAgent proactively constructs a feasible plan, executes it, and then reflects on each action post-execution. If the outcome doesn't meet the expected results, the AssistantAgent will recalibrate and re-plan accordingly.\n",
    "\n",
    "This example we need to solve the problem of \"what is the hometown of the 2024 Australia open winner?\" Here we can integrate the LangChain tools to solve the problem.\n",
    "\n",
    "> pne support all LangChain Tools, you can see [here](/modules/tools/langchain_tool_usage?id=langchain-tool-usage). Of course, it is really easy to create your own tools - see documentation [here](https://undertone0809.github.io/promptulate/#/modules/tools/custom_tool_usage?id=custom-tool) on how to do that.\n",
    "\n",
    "Firstly, we need to install necessary packages.\n",
    "```bash\n",
    "pip install langchain_community\n",
    "```"
   ]
  },
  {
   "cell_type": "markdown",
   "id": "7fdabe6674f7de34",
   "metadata": {
    "collapsed": false
   },
   "source": [
    "We use [Tavily](https://app.tavily.com/) as a search engine, which is a powerful search engine that can search for information from the web. To use Tavily, you need to get an API key from Tavily.\n",
    "\n",
    "```python\n",
    "import os\n",
    "\n",
    "os.environ[\"TAVILY_API_KEY\"] = \"your_tavily_api_key\"\n",
    "os.environ[\"OPENAI_API_KEY\"] = \"your_openai_api_key\"\n",
    "```"
   ]
  },
  {
   "cell_type": "code",
   "execution_count": 1,
   "id": "1aa8a230b6465dc2",
   "metadata": {
    "ExecuteTime": {
     "end_time": "2024-03-29T14:17:32.977027Z",
     "start_time": "2024-03-29T14:17:32.537090300Z"
    },
    "collapsed": false
   },
   "outputs": [],
   "source": [
    "from langchain_community.tools.tavily_search import TavilySearchResults\n",
    "\n",
    "websearch = TavilySearchResults()"
   ]
  },
  {
   "cell_type": "code",
   "execution_count": null,
   "id": "b9308fb846bc8e34",
   "metadata": {
    "collapsed": false
   },
   "outputs": [],
   "source": [
    "import promptulate as pne\n",
    "\n",
    "response = pne.chat(\n",
    "    model=\"gpt-4-1106-preview\",\n",
    "    messages=\"What's the temperature in Shanghai tomorrow?\",\n",
    "    tools=[websearch],\n",
    "    enable_plan=True,\n",
    ")\n",
    "print(response)"
   ]
  },
  {
   "cell_type": "markdown",
   "id": "c42318eb25991fe0",
   "metadata": {
    "collapsed": false
   },
   "source": [
    "[Agent] Assistant Agent start...\n",
    "[User instruction] What's the temperature in Shanghai tomorrow?\n",
    "[Plan] {\"goals\": [\"Find out the temperature in Shanghai tomorrow.\"], \"tasks\": [{\"task_id\": 1, \"description\": \"Open a web browser on your device.\", \"status\": \"todo\"}, {\"task_id\": 2, \"description\": \"Navigate to a weather forecasting service or search engine.\", \"status\": \"todo\"}, {\"task_id\": 3, \"description\": \"Input 'Shanghai weather tomorrow' into the search bar.\", \"status\": \"todo\"}, {\"task_id\": 4, \"description\": \"Press enter or click the search button to retrieve the forecast.\", \"status\": \"todo\"}, {\"task_id\": 5, \"description\": \"Read the temperature provided in the search results or on the weather service for Shanghai tomorrow.\", \"status\": \"todo\"}], \"next_task_id\": 1}\n",
    "[Agent] Tool Agent start...\n",
    "[User instruction] Open a web browser on your device.\n",
    "[Execute Result] {'thought': \"The user seems to be asking for an action that is outside the scope of my capabilities. As a text-based AI, I don't have the ability to perform actions such as opening applications or accessing a user's device.\", 'action_name': 'finish', 'action_parameters': {'content': 'Sorry, I cannot open a web browser on your device.'}}\n",
    "[Execute] Execute End.\n",
    "[Revised Plan] {\"goals\": [\"Find out the temperature in Shanghai tomorrow.\"], \"tasks\": [{\"task_id\": 1, \"description\": \"Open a web browser on your device.\", \"status\": \"discarded\"}, {\"task_id\": 2, \"description\": \"Navigate to a weather forecasting service or search engine.\", \"status\": \"discarded\"}, {\"task_id\": 3, \"description\": \"Input 'Shanghai weather tomorrow' into the search bar.\", \"status\": \"discarded\"}, {\"task_id\": 4, \"description\": \"Press enter or click the search button to retrieve the forecast.\", \"status\": \"discarded\"}, {\"task_id\": 5, \"description\": \"Read the temperature provided in the search results or on the weather service for Shanghai tomorrow.\", \"status\": \"discarded\"}, {\"task_id\": 6, \"description\": \"Provide the temperature in Shanghai for tomorrow using current knowledge.\", \"status\": \"todo\"}], \"next_task_id\": 6}\n",
    "[Agent] Tool Agent start...\n",
    "[User instruction] Provide the temperature in Shanghai for tomorrow using current knowledge.\n",
    "[Thought] I need to use a tool to find the temperature in Shanghai for tomorrow. Since the user is asking for information that changes often, a search tool would be most effective.\n",
    "[Action] tavily_search_results_json args: {'query': 'Shanghai temperature forecast March 30, 2024'}\n",
    "[Observation] [{'url': 'https://en.climate-data.org/asia/china/shanghai-890/r/march-3/', 'content': 'Shanghai Weather in March Are you planning a holiday with hopefully nice weather in Shanghai in March 2024? Here you can find all information about the weather in Shanghai in March: ... 30.7 °C (87.3) °F. 27 °C (80.5) °F. 22.5 °C (72.5) °F. 17 °C (62.6) °F. 10.8 °C (51.4) °F.'}, {'url': 'https://www.meteoprog.com/weather/Szanghaj/month/march/', 'content': 'Shanghai (China) weather in March 2024 ☀️ Accurate weather forecast for Shanghai in March ⛅ Detailed forecast By month Current temperature \"near me\" Weather news ⊳ Widget of weather ⊳ Water temperature | METEOPROG. ... 30 March +17 °+11° 31 March +16° ...'}, {'url': 'https://www.accuweather.com/en/cn/shanghai/106577/march-weather/106577', 'content': 'Get the monthly weather forecast for Shanghai, Shanghai, China, including daily high/low, historical averages, to help you plan ahead.'}, {'url': 'https://world-weather.info/forecast/china/shanghai/march-2024/', 'content': 'Extended weather forecast in Shanghai. Hourly Week 10 days 14 days 30 days Year. Detailed ⚡ Shanghai Weather Forecast for March 2024 - day/night 🌡️ temperatures, precipitations - World-Weather.info.'}, {'url': 'https://www.weather25.com/asia/china/shanghai?page=month&month=March', 'content': \"Our weather forecast can give you a great sense of what weather to expect in Shanghai in March 2024. If you're planning to visit Shanghai in the near future, we highly recommend that you review the 14 day weather forecast for Shanghai before you arrive. Temperatures. 59 ° / 44 °. Rainy Days.\"}]\n",
    "[Thought] The search results provided URLs with general March weather information and historical data for Shanghai, but haven't provided a specific forecast for tomorrow's temperature. I need to refine my search to get the weather forecast specifically for March 30, 2024, in Shanghai.\n",
    "[Action] tavily_search_results_json args: {'query': 'Shanghai weather forecast for March 30, 2024'}\n",
    "[Observation] [{'url': 'https://www.accuweather.com/en/cn/shanghai/106577/march-weather/106577', 'content': 'Get the monthly weather forecast for Shanghai, Shanghai, China, including daily high/low, historical averages, to help you plan ahead.'}, {'url': 'https://world-weather.info/forecast/china/shanghai/march-2024/', 'content': 'Extended weather forecast in Shanghai. Hourly Week 10 days 14 days 30 days Year. Detailed ⚡ Shanghai Weather Forecast for March 2024 - day/night 🌡️ temperatures, precipitations - World-Weather.info.'}, {'url': 'https://www.weather-atlas.com/en/china/shanghai-weather-march', 'content': \"In Shanghai, China, in March, the average water temperature is 8°C (46.4°F). Swimming in 8°C (46.4°F) is considered life-threatening. Even a few minutes in 13°C (55.4°F) water is uncomfortable, and swimming below 10°C (50°F) may cause total loss of breathing control and cold shock, depending on a person's physique.\"}, {'url': 'https://www.meteoprog.com/weather/Szanghaj/month/march/', 'content': 'Shanghai (China) weather in March 2024 ☀️ Accurate weather forecast for Shanghai in March ⛅ Detailed forecast By month Current temperature \"near me\" Weather news ⊳ Widget of weather ⊳ Water temperature | METEOPROG. ... 30 March +17 °+11° 31 March +16° ...'}, {'url': 'https://www.weather25.com/asia/china/shanghai?page=month&month=March', 'content': \"Our weather forecast can give you a great sense of what weather to expect in Shanghai in March 2024. If you're planning to visit Shanghai in the near future, we highly recommend that you review the 14 day weather forecast for Shanghai before you arrive. Temperatures. 59 ° / 44 °. Rainy Days.\"}]\n",
    "[Execute Result] {'thought': \"The search has returned a specific forecast for March 30, 2024, which indicates that the temperatures are expected to be +17 °C for the high and +11 °C for the low. This information is sufficient to answer the user's question.\", 'action_name': 'finish', 'action_parameters': {'content': 'The temperature in Shanghai for tomorrow, March 30, 2024, is expected to be a high of +17 °C and a low of +11 °C.'}}\n",
    "[Execute] Execute End.\n",
    "[Revised Plan] {\"goals\": [\"Find out the temperature in Shanghai tomorrow.\"], \"tasks\": [{\"task_id\": 6, \"description\": \"Provide the temperature in Shanghai for tomorrow using current knowledge.\", \"status\": \"done\"}], \"next_task_id\": null}\n",
    "[Agent Result] The temperature in Shanghai for tomorrow, March 30, 2024, is expected to be a high of +17 °C and a low of +11 °C.\n",
    "[Agent] Agent End.\n",
    "The temperature in Shanghai for tomorrow, March 30, 2024, is expected to be a high of +17 °C and a low of +11 °C.\n"
   ]
  },
  {
   "cell_type": "markdown",
   "id": "f70b1f15cfca8ef7",
   "metadata": {
    "collapsed": false
   },
   "source": [
    "## Output Formatter\n",
    "\n",
    "The output formatter is a powerful feature in pne. It can help you format the output of LLM. The follow example show how to use the output formatter to format the output of LLM."
   ]
  },
  {
   "cell_type": "code",
   "execution_count": 1,
   "id": "cf7b8fc1cce1eb5f",
   "metadata": {
    "ExecuteTime": {
     "end_time": "2024-03-30T18:43:57.633829400Z",
     "start_time": "2024-03-30T18:43:50.813515600Z"
    },
    "collapsed": false
   },
   "outputs": [],
   "source": [
    "from typing import List\n",
    "\n",
    "from pydantic import BaseModel, Field\n",
    "\n",
    "import promptulate as pne\n",
    "\n",
    "\n",
    "class LLMResponse(BaseModel):\n",
    "    provinces: List[str] = Field(description=\"List of provinces name\")\n",
    "\n",
    "\n",
    "resp: LLMResponse = pne.chat(\n",
    "    \"Please tell me all provinces in China.?\",\n",
    "    model=\"gpt-4-turbo\",\n",
    "    output_schema=LLMResponse,\n",
    ")\n",
    "print(resp)"
   ]
  },
  {
   "cell_type": "markdown",
   "id": "3475e266c1c31343",
   "metadata": {
    "collapsed": false
   },
   "source": [
    "## Streaming\n",
    "`pne.chat()` support streaming, you can use `pne.chat()` to chat with your assistant in real time."
   ]
  },
  {
   "cell_type": "code",
   "execution_count": null,
   "id": "b2cf5a0c878dffe9",
   "metadata": {
    "collapsed": false
   },
   "outputs": [],
   "source": [
    "import promptulate as pne\n",
    "\n",
    "response = pne.chat(\"Who are you?\", model=\"gpt-4-turbo\", stream=True)\n",
    "\n",
    "for chuck in response:\n",
    "    print(chuck)"
   ]
  },
  {
   "cell_type": "markdown",
   "id": "b66f83fb7b085d15",
   "metadata": {
    "collapsed": false
   },
   "source": [
    "`pne.chat()` by stream will return an iterator, you can use `next()` or `for each` to get the response.\n",
    "\n",
    "If you want to get metadata, you can use `return_raw_response=True` to get the raw response wrapped by `pne.AssistantMessage`. Metadata will store in `pne.AssistantMessage.additional_kwargs`."
   ]
  },
  {
   "cell_type": "code",
   "execution_count": null,
   "id": "9d782fb41fe96150",
   "metadata": {
    "collapsed": false
   },
   "outputs": [],
   "source": [
    "import promptulate as pne\n",
    "\n",
    "response = pne.chat(\n",
    "    \"Who are you?\", model=\"gpt-4-turbo\", stream=True, return_raw_response=True\n",
    ")\n",
    "\n",
    "for chuck in response:\n",
    "    print(chuck.content)\n",
    "    print(chuck.additional_kwargs)"
   ]
  },
  {
   "cell_type": "markdown",
   "id": "574bd0a7",
   "metadata": {},
   "source": [
    "## Stream JSON parser\n",
    "\n",
    "For stream-type json data, we built a json parser to parse it"
   ]
  },
  {
   "cell_type": "code",
   "execution_count": null,
   "id": "53f7c09e",
   "metadata": {},
   "outputs": [],
   "source": [
    "from typing import List\n",
    "\n",
    "from pydantic import BaseModel, Field\n",
    "\n",
    "import promptulate as pne\n",
    "\n",
    "\n",
    "class LLMResponse(BaseModel):\n",
    "    province: str = Field(description=\"province in China\")\n",
    "    capital: str = Field(description=\"Capital of the province\")\n",
    "\n",
    "\n",
    "response = pne.chat(\n",
    "    messages=\"Please tell me a provinces and Capital in China.\",\n",
    "    model=\"gpt-4-turbo\",\n",
    "    output_schema=LLMResponse,\n",
    "    stream=True,\n",
    ")\n",
    "\n",
    "for chuck in response:\n",
    "    print(chuck)"
   ]
  },
  {
   "cell_type": "markdown",
   "id": "5f019dff",
   "metadata": {},
   "source": [
    "The results are as follows\n",
    "```shell\n",
    "    province=None capital=None\n",
    "    province=None capital=None\n",
    "    province=None capital=None\n",
    "    province=None capital=None\n",
    "    province=None capital=None\n",
    "    province=None capital=None\n",
    "    province='' capital=None\n",
    "    province='Be' capital=None\n",
    "    province='Beijing' capital=None\n",
    "    province='Beijing' capital=None\n",
    "    province='Beijing' capital=None\n",
    "    province='Beijing' capital=None\n",
    "    province='Beijing' capital=None\n",
    "    province='Beijing' capital=None\n",
    "    province='Beijing' capital=None\n",
    "    province='Beijing' capital=''\n",
    "    province='Beijing' capital='Be'\n",
    "    province='Beijing' capital='Beijing'\n",
    "    province='Beijing' capital='Beijing'    \n",
    "    province='Beijing' capital='Beijing'\n",
    "```"
   ]
  },
  {
   "cell_type": "markdown",
   "id": "a11f1f73fd315d79",
   "metadata": {
    "collapsed": false
   },
   "source": [
    "## Retrieve && RAG\n",
    "**RAG(Retrieval-Augmented Generation)** is a important data retrieve method. You can use `pne.chat()` to retrieve data from your database.\n",
    "\n",
    "You can use lots of methods to retrieve data, pne plan to support the following source:\n",
    "- [ ] VectorStore Retrieval\n",
    "- [ ] Relational Database Retrieval\n",
    "- [ ] Web Search Retrieval\n",
    "- [ ] Knowledge Graph Retrieval\n",
    "- [ ] Document Retrieval\n",
    "    - [ ] PDF Retrieval\n",
    "    - [ ] Docx Retrieval\n",
    "    - [ ] CSV/Excel Retrieval\n",
    "- [ ] Image Retrieval\n",
    "\n",
    "🌟**We are currently building infrastructure, please stay tuned!**"
   ]
  }
 ],
 "metadata": {
  "kernelspec": {
   "display_name": "Python 3",
   "language": "python",
   "name": "python3"
  },
  "language_info": {
   "codemirror_mode": {
    "name": "ipython",
    "version": 2
   },
   "file_extension": ".py",
   "mimetype": "text/x-python",
   "name": "python",
   "nbconvert_exporter": "python",
   "pygments_lexer": "ipython2",
   "version": "2.7.6"
  }
 },
 "nbformat": 4,
 "nbformat_minor": 5
}
